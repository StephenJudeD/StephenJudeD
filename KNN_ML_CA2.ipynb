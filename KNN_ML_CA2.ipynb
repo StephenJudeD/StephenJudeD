{
  "cells": [
    {
      "cell_type": "markdown",
      "metadata": {
        "id": "view-in-github",
        "colab_type": "text"
      },
      "source": [
        "<a href=\"https://colab.research.google.com/github/StephenJudeD/StephenJudeD/blob/main/KNN_ML_CA2.ipynb\" target=\"_parent\"><img src=\"https://colab.research.google.com/assets/colab-badge.svg\" alt=\"Open In Colab\"/></a>"
      ]
    },
    {
      "cell_type": "markdown",
      "id": "ddb41612",
      "metadata": {
        "papermill": {
          "duration": 0.020903,
          "end_time": "2021-07-11T13:49:01.893957",
          "exception": false,
          "start_time": "2021-07-11T13:49:01.873054",
          "status": "completed"
        },
        "tags": [],
        "id": "ddb41612"
      },
      "source": [
        "### KNN Recommendation system\n",
        "\n"
      ]
    },
    {
      "cell_type": "markdown",
      "id": "405c6f7d",
      "metadata": {
        "id": "405c6f7d"
      },
      "source": [
        "Dataset Source: https://www.kaggle.com/datasets/nikdavis/steam-store-games\n",
        "\n",
        "Dataset Description: Using data gathered from the Steam Store and SteamSpy APIs, this dataset provides information about various aspects of games on the store, such as its genre and the estimated number of owners. I did a v-lookup on the description data to remove anything that wasn't corresponding to main df\n",
        "\n",
        "Objective: Provide recommendations based on input"
      ]
    },
    {
      "cell_type": "code",
      "execution_count": 2,
      "id": "cef2112b",
      "metadata": {
        "execution": {
          "iopub.execute_input": "2021-07-11T13:49:01.945054Z",
          "iopub.status.busy": "2021-07-11T13:49:01.943885Z",
          "iopub.status.idle": "2021-07-11T13:49:03.067344Z",
          "shell.execute_reply": "2021-07-11T13:49:03.066428Z",
          "shell.execute_reply.started": "2021-07-11T11:27:23.714971Z"
        },
        "papermill": {
          "duration": 1.15384,
          "end_time": "2021-07-11T13:49:03.067540",
          "exception": false,
          "start_time": "2021-07-11T13:49:01.913700",
          "status": "completed"
        },
        "tags": [],
        "id": "cef2112b"
      },
      "outputs": [],
      "source": [
        "import pandas as pd\n",
        "import numpy as np\n",
        "import matplotlib.pyplot as plt\n",
        "from sklearn.feature_extraction.text import CountVectorizer\n",
        "from sklearn.metrics.pairwise import cosine_similarity\n",
        "from sklearn.feature_extraction.text import TfidfVectorizer\n",
        "from scipy.sparse import hstack"
      ]
    },
    {
      "cell_type": "code",
      "source": [
        "from google.colab import files\n",
        " \n",
        " \n",
        "uploaded = files.upload()"
      ],
      "metadata": {
        "colab": {
          "base_uri": "https://localhost:8080/",
          "height": 107
        },
        "id": "A9r9Gd_apybV",
        "outputId": "51e53d00-6e93-46f8-f6d3-0e0386158f29"
      },
      "id": "A9r9Gd_apybV",
      "execution_count": 1,
      "outputs": [
        {
          "output_type": "display_data",
          "data": {
            "text/plain": [
              "<IPython.core.display.HTML object>"
            ],
            "text/html": [
              "\n",
              "     <input type=\"file\" id=\"files-eb9fbe30-ecc2-4a8a-9932-0aee84138de2\" name=\"files[]\" multiple disabled\n",
              "        style=\"border:none\" />\n",
              "     <output id=\"result-eb9fbe30-ecc2-4a8a-9932-0aee84138de2\">\n",
              "      Upload widget is only available when the cell has been executed in the\n",
              "      current browser session. Please rerun this cell to enable.\n",
              "      </output>\n",
              "      <script>// Copyright 2017 Google LLC\n",
              "//\n",
              "// Licensed under the Apache License, Version 2.0 (the \"License\");\n",
              "// you may not use this file except in compliance with the License.\n",
              "// You may obtain a copy of the License at\n",
              "//\n",
              "//      http://www.apache.org/licenses/LICENSE-2.0\n",
              "//\n",
              "// Unless required by applicable law or agreed to in writing, software\n",
              "// distributed under the License is distributed on an \"AS IS\" BASIS,\n",
              "// WITHOUT WARRANTIES OR CONDITIONS OF ANY KIND, either express or implied.\n",
              "// See the License for the specific language governing permissions and\n",
              "// limitations under the License.\n",
              "\n",
              "/**\n",
              " * @fileoverview Helpers for google.colab Python module.\n",
              " */\n",
              "(function(scope) {\n",
              "function span(text, styleAttributes = {}) {\n",
              "  const element = document.createElement('span');\n",
              "  element.textContent = text;\n",
              "  for (const key of Object.keys(styleAttributes)) {\n",
              "    element.style[key] = styleAttributes[key];\n",
              "  }\n",
              "  return element;\n",
              "}\n",
              "\n",
              "// Max number of bytes which will be uploaded at a time.\n",
              "const MAX_PAYLOAD_SIZE = 100 * 1024;\n",
              "\n",
              "function _uploadFiles(inputId, outputId) {\n",
              "  const steps = uploadFilesStep(inputId, outputId);\n",
              "  const outputElement = document.getElementById(outputId);\n",
              "  // Cache steps on the outputElement to make it available for the next call\n",
              "  // to uploadFilesContinue from Python.\n",
              "  outputElement.steps = steps;\n",
              "\n",
              "  return _uploadFilesContinue(outputId);\n",
              "}\n",
              "\n",
              "// This is roughly an async generator (not supported in the browser yet),\n",
              "// where there are multiple asynchronous steps and the Python side is going\n",
              "// to poll for completion of each step.\n",
              "// This uses a Promise to block the python side on completion of each step,\n",
              "// then passes the result of the previous step as the input to the next step.\n",
              "function _uploadFilesContinue(outputId) {\n",
              "  const outputElement = document.getElementById(outputId);\n",
              "  const steps = outputElement.steps;\n",
              "\n",
              "  const next = steps.next(outputElement.lastPromiseValue);\n",
              "  return Promise.resolve(next.value.promise).then((value) => {\n",
              "    // Cache the last promise value to make it available to the next\n",
              "    // step of the generator.\n",
              "    outputElement.lastPromiseValue = value;\n",
              "    return next.value.response;\n",
              "  });\n",
              "}\n",
              "\n",
              "/**\n",
              " * Generator function which is called between each async step of the upload\n",
              " * process.\n",
              " * @param {string} inputId Element ID of the input file picker element.\n",
              " * @param {string} outputId Element ID of the output display.\n",
              " * @return {!Iterable<!Object>} Iterable of next steps.\n",
              " */\n",
              "function* uploadFilesStep(inputId, outputId) {\n",
              "  const inputElement = document.getElementById(inputId);\n",
              "  inputElement.disabled = false;\n",
              "\n",
              "  const outputElement = document.getElementById(outputId);\n",
              "  outputElement.innerHTML = '';\n",
              "\n",
              "  const pickedPromise = new Promise((resolve) => {\n",
              "    inputElement.addEventListener('change', (e) => {\n",
              "      resolve(e.target.files);\n",
              "    });\n",
              "  });\n",
              "\n",
              "  const cancel = document.createElement('button');\n",
              "  inputElement.parentElement.appendChild(cancel);\n",
              "  cancel.textContent = 'Cancel upload';\n",
              "  const cancelPromise = new Promise((resolve) => {\n",
              "    cancel.onclick = () => {\n",
              "      resolve(null);\n",
              "    };\n",
              "  });\n",
              "\n",
              "  // Wait for the user to pick the files.\n",
              "  const files = yield {\n",
              "    promise: Promise.race([pickedPromise, cancelPromise]),\n",
              "    response: {\n",
              "      action: 'starting',\n",
              "    }\n",
              "  };\n",
              "\n",
              "  cancel.remove();\n",
              "\n",
              "  // Disable the input element since further picks are not allowed.\n",
              "  inputElement.disabled = true;\n",
              "\n",
              "  if (!files) {\n",
              "    return {\n",
              "      response: {\n",
              "        action: 'complete',\n",
              "      }\n",
              "    };\n",
              "  }\n",
              "\n",
              "  for (const file of files) {\n",
              "    const li = document.createElement('li');\n",
              "    li.append(span(file.name, {fontWeight: 'bold'}));\n",
              "    li.append(span(\n",
              "        `(${file.type || 'n/a'}) - ${file.size} bytes, ` +\n",
              "        `last modified: ${\n",
              "            file.lastModifiedDate ? file.lastModifiedDate.toLocaleDateString() :\n",
              "                                    'n/a'} - `));\n",
              "    const percent = span('0% done');\n",
              "    li.appendChild(percent);\n",
              "\n",
              "    outputElement.appendChild(li);\n",
              "\n",
              "    const fileDataPromise = new Promise((resolve) => {\n",
              "      const reader = new FileReader();\n",
              "      reader.onload = (e) => {\n",
              "        resolve(e.target.result);\n",
              "      };\n",
              "      reader.readAsArrayBuffer(file);\n",
              "    });\n",
              "    // Wait for the data to be ready.\n",
              "    let fileData = yield {\n",
              "      promise: fileDataPromise,\n",
              "      response: {\n",
              "        action: 'continue',\n",
              "      }\n",
              "    };\n",
              "\n",
              "    // Use a chunked sending to avoid message size limits. See b/62115660.\n",
              "    let position = 0;\n",
              "    do {\n",
              "      const length = Math.min(fileData.byteLength - position, MAX_PAYLOAD_SIZE);\n",
              "      const chunk = new Uint8Array(fileData, position, length);\n",
              "      position += length;\n",
              "\n",
              "      const base64 = btoa(String.fromCharCode.apply(null, chunk));\n",
              "      yield {\n",
              "        response: {\n",
              "          action: 'append',\n",
              "          file: file.name,\n",
              "          data: base64,\n",
              "        },\n",
              "      };\n",
              "\n",
              "      let percentDone = fileData.byteLength === 0 ?\n",
              "          100 :\n",
              "          Math.round((position / fileData.byteLength) * 100);\n",
              "      percent.textContent = `${percentDone}% done`;\n",
              "\n",
              "    } while (position < fileData.byteLength);\n",
              "  }\n",
              "\n",
              "  // All done.\n",
              "  yield {\n",
              "    response: {\n",
              "      action: 'complete',\n",
              "    }\n",
              "  };\n",
              "}\n",
              "\n",
              "scope.google = scope.google || {};\n",
              "scope.google.colab = scope.google.colab || {};\n",
              "scope.google.colab._files = {\n",
              "  _uploadFiles,\n",
              "  _uploadFilesContinue,\n",
              "};\n",
              "})(self);\n",
              "</script> "
            ]
          },
          "metadata": {}
        },
        {
          "output_type": "stream",
          "name": "stdout",
          "text": [
            "Saving steam.csv to steam.csv\n",
            "Saving steam_description_data.csv to steam_description_data.csv\n"
          ]
        }
      ]
    },
    {
      "cell_type": "code",
      "source": [
        "import io\n",
        "\n",
        "df = pd.read_csv(io.BytesIO(uploaded['steam.csv']))\n",
        "print(df)"
      ],
      "metadata": {
        "colab": {
          "base_uri": "https://localhost:8080/"
        },
        "id": "vYLw-7rYqG0G",
        "outputId": "2a63e327-94a0-42ee-8a43-0c393b42000e"
      },
      "id": "vYLw-7rYqG0G",
      "execution_count": 4,
      "outputs": [
        {
          "output_type": "stream",
          "name": "stdout",
          "text": [
            "     appid                           name release_date  english  \\\n",
            "0       10                 Counter-Strike   01/11/2000        1   \n",
            "1       20          Team Fortress Classic   01/04/1999        1   \n",
            "2       30                  Day of Defeat   01/05/2003        1   \n",
            "3       40             Deathmatch Classic   01/06/2001        1   \n",
            "4       50      Half-Life: Opposing Force   01/11/1999        1   \n",
            "..     ...                            ...          ...      ...   \n",
            "994  65740  Carrier Command: Gaea Mission   28/09/2012        1   \n",
            "995  65780             ARMA: Gold Edition   13/07/2011        1   \n",
            "996  65790         ARMA: Cold War Assault   08/08/2011        1   \n",
            "997  65800              Dungeon Defenders   18/10/2011        1   \n",
            "998  65930  The Bureau: XCOM Declassified   22/08/2013        1   \n",
            "\n",
            "                developer             publisher          platforms  \\\n",
            "0                   Valve                 Valve  windows;mac;linux   \n",
            "1                   Valve                 Valve  windows;mac;linux   \n",
            "2                   Valve                 Valve  windows;mac;linux   \n",
            "3                   Valve                 Valve  windows;mac;linux   \n",
            "4        Gearbox Software                 Valve  windows;mac;linux   \n",
            "..                    ...                   ...                ...   \n",
            "994   Bohemia Interactive   Bohemia Interactive            windows   \n",
            "995   Bohemia Interactive   Bohemia Interactive            windows   \n",
            "996   Bohemia Interactive   Bohemia Interactive            windows   \n",
            "997  Trendy Entertainment  Trendy Entertainment  windows;mac;linux   \n",
            "998              2K Marin                    2K        windows;mac   \n",
            "\n",
            "     required_age                                         categories  \\\n",
            "0               0  Multi-player;Online Multi-Player;Local Multi-P...   \n",
            "1               0  Multi-player;Online Multi-Player;Local Multi-P...   \n",
            "2               0              Multi-player;Valve Anti-Cheat enabled   \n",
            "3               0  Multi-player;Online Multi-Player;Local Multi-P...   \n",
            "4               0  Single-player;Multi-player;Valve Anti-Cheat en...   \n",
            "..            ...                                                ...   \n",
            "994            16  Single-player;Steam Achievements;Captions avai...   \n",
            "995            16                         Single-player;Multi-player   \n",
            "996            16                                      Single-player   \n",
            "997             0  Single-player;Multi-player;Co-op;Shared/Split ...   \n",
            "998            16  Single-player;Steam Achievements;Full controll...   \n",
            "\n",
            "                         genres                 steamspy_tags  achievements  \\\n",
            "0                        Action        Action;FPS;Multiplayer             0   \n",
            "1                        Action        Action;FPS;Multiplayer             0   \n",
            "2                        Action  FPS;World War II;Multiplayer             0   \n",
            "3                        Action        Action;FPS;Multiplayer             0   \n",
            "4                        Action             FPS;Action;Sci-fi             0   \n",
            "..                          ...                           ...           ...   \n",
            "994             Action;Strategy        Strategy;Action;Sci-fi            45   \n",
            "995  Action;Simulation;Strategy    Simulation;Action;Military             0   \n",
            "996  Action;Simulation;Strategy    Simulation;Action;Strategy             0   \n",
            "997   Action;Indie;RPG;Strategy       Tower Defense;RPG;Co-op           114   \n",
            "998                      Action        Action;Tactical;Sci-fi            41   \n",
            "\n",
            "     positive_ratings  negative_ratings  average_playtime  median_playtime  \\\n",
            "0              124534              3339             17612              317   \n",
            "1                3318               633               277               62   \n",
            "2                3416               398               187               34   \n",
            "3                1273               267               258              184   \n",
            "4                5250               288               624              415   \n",
            "..                ...               ...               ...              ...   \n",
            "994               362               442                81               81   \n",
            "995               548               209                22               22   \n",
            "996              3195               942                28               39   \n",
            "997             10693               932              1993             1205   \n",
            "998              6661              2923               201              168   \n",
            "\n",
            "                owners  price  \n",
            "0    10000000-20000000   7.19  \n",
            "1     5000000-10000000   3.99  \n",
            "2     5000000-10000000   3.99  \n",
            "3     5000000-10000000   3.99  \n",
            "4     5000000-10000000   3.99  \n",
            "..                 ...    ...  \n",
            "994      200000-500000  19.99  \n",
            "995     500000-1000000   5.99  \n",
            "996    1000000-2000000   3.49  \n",
            "997    1000000-2000000   9.99  \n",
            "998    2000000-5000000  14.99  \n",
            "\n",
            "[999 rows x 18 columns]\n"
          ]
        }
      ]
    },
    {
      "cell_type": "code",
      "source": [
        "df1 = pd.read_csv(io.BytesIO(uploaded['steam_description_data.csv']))\n",
        "print(df)"
      ],
      "metadata": {
        "colab": {
          "base_uri": "https://localhost:8080/"
        },
        "id": "lhOClMOiqPzW",
        "outputId": "82fd6327-0560-4329-e06f-7ba04e77ba50"
      },
      "id": "lhOClMOiqPzW",
      "execution_count": 5,
      "outputs": [
        {
          "output_type": "stream",
          "name": "stdout",
          "text": [
            "     appid                           name release_date  english  \\\n",
            "0       10                 Counter-Strike   01/11/2000        1   \n",
            "1       20          Team Fortress Classic   01/04/1999        1   \n",
            "2       30                  Day of Defeat   01/05/2003        1   \n",
            "3       40             Deathmatch Classic   01/06/2001        1   \n",
            "4       50      Half-Life: Opposing Force   01/11/1999        1   \n",
            "..     ...                            ...          ...      ...   \n",
            "994  65740  Carrier Command: Gaea Mission   28/09/2012        1   \n",
            "995  65780             ARMA: Gold Edition   13/07/2011        1   \n",
            "996  65790         ARMA: Cold War Assault   08/08/2011        1   \n",
            "997  65800              Dungeon Defenders   18/10/2011        1   \n",
            "998  65930  The Bureau: XCOM Declassified   22/08/2013        1   \n",
            "\n",
            "                developer             publisher          platforms  \\\n",
            "0                   Valve                 Valve  windows;mac;linux   \n",
            "1                   Valve                 Valve  windows;mac;linux   \n",
            "2                   Valve                 Valve  windows;mac;linux   \n",
            "3                   Valve                 Valve  windows;mac;linux   \n",
            "4        Gearbox Software                 Valve  windows;mac;linux   \n",
            "..                    ...                   ...                ...   \n",
            "994   Bohemia Interactive   Bohemia Interactive            windows   \n",
            "995   Bohemia Interactive   Bohemia Interactive            windows   \n",
            "996   Bohemia Interactive   Bohemia Interactive            windows   \n",
            "997  Trendy Entertainment  Trendy Entertainment  windows;mac;linux   \n",
            "998              2K Marin                    2K        windows;mac   \n",
            "\n",
            "     required_age                                         categories  \\\n",
            "0               0  Multi-player;Online Multi-Player;Local Multi-P...   \n",
            "1               0  Multi-player;Online Multi-Player;Local Multi-P...   \n",
            "2               0              Multi-player;Valve Anti-Cheat enabled   \n",
            "3               0  Multi-player;Online Multi-Player;Local Multi-P...   \n",
            "4               0  Single-player;Multi-player;Valve Anti-Cheat en...   \n",
            "..            ...                                                ...   \n",
            "994            16  Single-player;Steam Achievements;Captions avai...   \n",
            "995            16                         Single-player;Multi-player   \n",
            "996            16                                      Single-player   \n",
            "997             0  Single-player;Multi-player;Co-op;Shared/Split ...   \n",
            "998            16  Single-player;Steam Achievements;Full controll...   \n",
            "\n",
            "                         genres                 steamspy_tags  achievements  \\\n",
            "0                        Action        Action;FPS;Multiplayer             0   \n",
            "1                        Action        Action;FPS;Multiplayer             0   \n",
            "2                        Action  FPS;World War II;Multiplayer             0   \n",
            "3                        Action        Action;FPS;Multiplayer             0   \n",
            "4                        Action             FPS;Action;Sci-fi             0   \n",
            "..                          ...                           ...           ...   \n",
            "994             Action;Strategy        Strategy;Action;Sci-fi            45   \n",
            "995  Action;Simulation;Strategy    Simulation;Action;Military             0   \n",
            "996  Action;Simulation;Strategy    Simulation;Action;Strategy             0   \n",
            "997   Action;Indie;RPG;Strategy       Tower Defense;RPG;Co-op           114   \n",
            "998                      Action        Action;Tactical;Sci-fi            41   \n",
            "\n",
            "     positive_ratings  negative_ratings  average_playtime  median_playtime  \\\n",
            "0              124534              3339             17612              317   \n",
            "1                3318               633               277               62   \n",
            "2                3416               398               187               34   \n",
            "3                1273               267               258              184   \n",
            "4                5250               288               624              415   \n",
            "..                ...               ...               ...              ...   \n",
            "994               362               442                81               81   \n",
            "995               548               209                22               22   \n",
            "996              3195               942                28               39   \n",
            "997             10693               932              1993             1205   \n",
            "998              6661              2923               201              168   \n",
            "\n",
            "                owners  price  \n",
            "0    10000000-20000000   7.19  \n",
            "1     5000000-10000000   3.99  \n",
            "2     5000000-10000000   3.99  \n",
            "3     5000000-10000000   3.99  \n",
            "4     5000000-10000000   3.99  \n",
            "..                 ...    ...  \n",
            "994      200000-500000  19.99  \n",
            "995     500000-1000000   5.99  \n",
            "996    1000000-2000000   3.49  \n",
            "997    1000000-2000000   9.99  \n",
            "998    2000000-5000000  14.99  \n",
            "\n",
            "[999 rows x 18 columns]\n"
          ]
        }
      ]
    },
    {
      "cell_type": "code",
      "execution_count": 6,
      "id": "53569e6f",
      "metadata": {
        "execution": {
          "iopub.execute_input": "2021-07-11T13:49:06.095800Z",
          "iopub.status.busy": "2021-07-11T13:49:06.094978Z",
          "iopub.status.idle": "2021-07-11T13:49:06.100057Z",
          "shell.execute_reply": "2021-07-11T13:49:06.099461Z",
          "shell.execute_reply.started": "2021-07-11T11:27:40.223251Z"
        },
        "papermill": {
          "duration": 0.031303,
          "end_time": "2021-07-11T13:49:06.100223",
          "exception": false,
          "start_time": "2021-07-11T13:49:06.068920",
          "status": "completed"
        },
        "tags": [],
        "colab": {
          "base_uri": "https://localhost:8080/"
        },
        "id": "53569e6f",
        "outputId": "f670c7af-f410-4893-ccfd-a3efaaf5ad6b"
      },
      "outputs": [
        {
          "output_type": "execute_result",
          "data": {
            "text/plain": [
              "(999, 18)"
            ]
          },
          "metadata": {},
          "execution_count": 6
        }
      ],
      "source": [
        "# Total size\n",
        "df.shape"
      ]
    },
    {
      "cell_type": "code",
      "execution_count": 8,
      "id": "a177d8b4",
      "metadata": {
        "execution": {
          "iopub.execute_input": "2021-07-11T13:49:06.184737Z",
          "iopub.status.busy": "2021-07-11T13:49:06.184052Z",
          "iopub.status.idle": "2021-07-11T13:49:06.309764Z",
          "shell.execute_reply": "2021-07-11T13:49:06.309207Z",
          "shell.execute_reply.started": "2021-07-11T11:27:52.479191Z"
        },
        "papermill": {
          "duration": 0.152051,
          "end_time": "2021-07-11T13:49:06.309904",
          "exception": false,
          "start_time": "2021-07-11T13:49:06.157853",
          "status": "completed"
        },
        "tags": [],
        "colab": {
          "base_uri": "https://localhost:8080/"
        },
        "id": "a177d8b4",
        "outputId": "6af2dcc2-d58f-4dcc-a564-fafeab11893e"
      },
      "outputs": [
        {
          "output_type": "stream",
          "name": "stderr",
          "text": [
            "/usr/local/lib/python3.7/dist-packages/ipykernel_launcher.py:17: FutureWarning: In a future version of pandas all arguments of DataFrame.drop except for the argument 'labels' will be keyword-only\n"
          ]
        }
      ],
      "source": [
        "# Combining dataframes\n",
        "df = df.rename(columns={'appid':'steam_appid'})\n",
        "united_df = df.merge(df1, on='steam_appid')\n",
        "\n",
        "# Removing unused columns\n",
        "united_df = united_df.drop(['release_date',\n",
        "                            'platforms',\n",
        "                            'required_age',\n",
        "                            'achievements',\n",
        "                            'average_playtime',\n",
        "                            'median_playtime',\n",
        "                            'owners',\n",
        "                            'price',\n",
        "                            'about_the_game',\n",
        "                            'categories',\n",
        "                            'publisher',\n",
        "                            'detailed_description'],1)\n",
        "\n",
        "# Creating a rating difference\n",
        "united_df['rating_difference'] = united_df['positive_ratings'] - united_df['negative_ratings']\n",
        "\n",
        "# Removing games with negative and very low ratings to help with pour predictions\n",
        "united_df = united_df.drop(united_df[united_df['rating_difference'] <= 10].index).reset_index(drop=True)\n",
        "\n",
        "# Removing games without English translation as thats how i roll\n",
        "united_df = united_df.drop(united_df[united_df['english'] == 0].index).reset_index(drop=True)"
      ]
    },
    {
      "cell_type": "code",
      "execution_count": 9,
      "id": "d7387d9e",
      "metadata": {
        "colab": {
          "base_uri": "https://localhost:8080/"
        },
        "id": "d7387d9e",
        "outputId": "6ceaa485-8c43-4d8f-d5e1-2069d6091ad1"
      },
      "outputs": [
        {
          "output_type": "execute_result",
          "data": {
            "text/plain": [
              "<bound method DataFrame.info of      steam_appid                           name  english  \\\n",
              "0             10                 Counter-Strike        1   \n",
              "1             20          Team Fortress Classic        1   \n",
              "2             30                  Day of Defeat        1   \n",
              "3             40             Deathmatch Classic        1   \n",
              "4             50      Half-Life: Opposing Force        1   \n",
              "..           ...                            ...      ...   \n",
              "799        65730            Take On Helicopters        1   \n",
              "800        65780             ARMA: Gold Edition        1   \n",
              "801        65790         ARMA: Cold War Assault        1   \n",
              "802        65800              Dungeon Defenders        1   \n",
              "803        65930  The Bureau: XCOM Declassified        1   \n",
              "\n",
              "                developer                      genres  \\\n",
              "0                   Valve                      Action   \n",
              "1                   Valve                      Action   \n",
              "2                   Valve                      Action   \n",
              "3                   Valve                      Action   \n",
              "4        Gearbox Software                      Action   \n",
              "..                    ...                         ...   \n",
              "799   Bohemia Interactive                  Simulation   \n",
              "800   Bohemia Interactive  Action;Simulation;Strategy   \n",
              "801   Bohemia Interactive  Action;Simulation;Strategy   \n",
              "802  Trendy Entertainment   Action;Indie;RPG;Strategy   \n",
              "803              2K Marin                      Action   \n",
              "\n",
              "                    steamspy_tags  positive_ratings  negative_ratings  \\\n",
              "0          Action;FPS;Multiplayer            124534              3339   \n",
              "1          Action;FPS;Multiplayer              3318               633   \n",
              "2    FPS;World War II;Multiplayer              3416               398   \n",
              "3          Action;FPS;Multiplayer              1273               267   \n",
              "4               FPS;Action;Sci-fi              5250               288   \n",
              "..                            ...               ...               ...   \n",
              "799  Simulation;Flight;Open World               340               260   \n",
              "800    Simulation;Action;Military               548               209   \n",
              "801    Simulation;Action;Strategy              3195               942   \n",
              "802       Tower Defense;RPG;Co-op             10693               932   \n",
              "803        Action;Tactical;Sci-fi              6661              2923   \n",
              "\n",
              "     Unnamed: 1                                  short_description  \\\n",
              "0            10  Play the world's number 1 online action game. ...   \n",
              "1            20  One of the most popular online action games of...   \n",
              "2            30  Enlist in an intense brand of Axis vs. Allied ...   \n",
              "3            40  Enjoy fast-paced multiplayer gaming with Death...   \n",
              "4            50  Return to the Black Mesa Research Facility as ...   \n",
              "..          ...                                                ...   \n",
              "799       65730  The brand new helicopter game from independent...   \n",
              "800       65780  ARMA: Gold is pack of ARMA: Armed Assault and ...   \n",
              "801       65790  Bohemia Interactive's debut game published by ...   \n",
              "802       65800  Create a hero from one of four classes to save...   \n",
              "803       65930  The year is 1962 and the Cold War has the nati...   \n",
              "\n",
              "     rating_difference  \n",
              "0               121195  \n",
              "1                 2685  \n",
              "2                 3018  \n",
              "3                 1006  \n",
              "4                 4962  \n",
              "..                 ...  \n",
              "799                 80  \n",
              "800                339  \n",
              "801               2253  \n",
              "802               9761  \n",
              "803               3738  \n",
              "\n",
              "[804 rows x 11 columns]>"
            ]
          },
          "metadata": {},
          "execution_count": 9
        }
      ],
      "source": [
        "# Quick look at our data - there is alo going on\n",
        "united_df.info"
      ]
    },
    {
      "cell_type": "code",
      "execution_count": 10,
      "id": "0a12f459",
      "metadata": {
        "colab": {
          "base_uri": "https://localhost:8080/"
        },
        "id": "0a12f459",
        "outputId": "681e98db-9e3b-4281-eb02-229035299ec1"
      },
      "outputs": [
        {
          "output_type": "execute_result",
          "data": {
            "text/plain": [
              "steam_appid          0\n",
              "name                 0\n",
              "english              0\n",
              "developer            0\n",
              "genres               0\n",
              "steamspy_tags        0\n",
              "positive_ratings     0\n",
              "negative_ratings     0\n",
              "Unnamed: 1           0\n",
              "short_description    0\n",
              "rating_difference    0\n",
              "dtype: int64"
            ]
          },
          "metadata": {},
          "execution_count": 10
        }
      ],
      "source": [
        "# Null values\n",
        "united_df.isnull().sum()"
      ]
    },
    {
      "cell_type": "code",
      "execution_count": 11,
      "id": "65114d85",
      "metadata": {
        "execution": {
          "iopub.execute_input": "2021-07-11T13:49:06.351689Z",
          "iopub.status.busy": "2021-07-11T13:49:06.351036Z",
          "iopub.status.idle": "2021-07-11T13:49:06.357396Z",
          "shell.execute_reply": "2021-07-11T13:49:06.356854Z",
          "shell.execute_reply.started": "2021-07-11T11:27:57.505351Z"
        },
        "papermill": {
          "duration": 0.028442,
          "end_time": "2021-07-11T13:49:06.357533",
          "exception": false,
          "start_time": "2021-07-11T13:49:06.329091",
          "status": "completed"
        },
        "tags": [],
        "colab": {
          "base_uri": "https://localhost:8080/"
        },
        "id": "65114d85",
        "outputId": "c3666b9f-dd91-4ca2-bb02-1169b9f59669"
      },
      "outputs": [
        {
          "output_type": "execute_result",
          "data": {
            "text/plain": [
              "(804, 11)"
            ]
          },
          "metadata": {},
          "execution_count": 11
        }
      ],
      "source": [
        "# Total size \n",
        "united_df.shape"
      ]
    },
    {
      "cell_type": "markdown",
      "id": "86c5a02f",
      "metadata": {
        "papermill": {
          "duration": 0.019369,
          "end_time": "2021-07-11T13:49:06.396405",
          "exception": false,
          "start_time": "2021-07-11T13:49:06.377036",
          "status": "completed"
        },
        "tags": [],
        "id": "86c5a02f"
      },
      "source": [
        "**Lets have a look at the Data**"
      ]
    },
    {
      "cell_type": "code",
      "execution_count": 12,
      "id": "06736692",
      "metadata": {
        "execution": {
          "iopub.execute_input": "2021-07-11T13:49:06.452435Z",
          "iopub.status.busy": "2021-07-11T13:49:06.451744Z",
          "iopub.status.idle": "2021-07-11T13:49:06.717920Z",
          "shell.execute_reply": "2021-07-11T13:49:06.717269Z",
          "shell.execute_reply.started": "2021-07-11T11:28:00.764729Z"
        },
        "papermill": {
          "duration": 0.301993,
          "end_time": "2021-07-11T13:49:06.718059",
          "exception": false,
          "start_time": "2021-07-11T13:49:06.416066",
          "status": "completed"
        },
        "tags": [],
        "colab": {
          "base_uri": "https://localhost:8080/",
          "height": 295
        },
        "id": "06736692",
        "outputId": "461de406-a7e0-45d1-9291-42ba63773bb2"
      },
      "outputs": [
        {
          "output_type": "display_data",
          "data": {
            "text/plain": [
              "<Figure size 720x288 with 1 Axes>"
            ],
            "image/png": "[encoded data removed]"
          },
          "metadata": {
            "needs_background": "light"
          }
        }
      ],
      "source": [
        "# Always good to have a Visualisation\n",
        "\n",
        "# Selecting the required part of the dataframe\n",
        "dev_head = united_df['developer'].value_counts().head(10)\n",
        "\n",
        "# Create a figure\n",
        "fig1, ax1 = plt.subplots(figsize=(10,4))\n",
        "\n",
        "# Building a graph from a series\n",
        "dev_head.plot(kind='barh', color='lightcoral', ax=ax1)\n",
        "\n",
        "# Changing the order of lines on the chart\n",
        "plt.gca().invert_yaxis()\n",
        "\n",
        "# Sign the axes and give the name\n",
        "plt.title('Number of games per developer')\n",
        "plt.xlabel('Number of games')\n",
        "plt.ylabel('Developer')\n",
        "\n",
        "# Draw vertical lines\n",
        "plt.grid(axis='x')\n",
        "ax1.set_axisbelow(True)\n",
        "plt.show()"
      ]
    },
    {
      "cell_type": "code",
      "execution_count": 13,
      "id": "2d6803b7",
      "metadata": {
        "id": "2d6803b7"
      },
      "outputs": [],
      "source": [
        "# As always with text data, we need to do some cleansing to our model will perfomr better"
      ]
    },
    {
      "cell_type": "code",
      "execution_count": 14,
      "id": "8f3637cc",
      "metadata": {
        "execution": {
          "iopub.execute_input": "2021-07-11T13:49:07.343501Z",
          "iopub.status.busy": "2021-07-11T13:49:07.342744Z",
          "iopub.status.idle": "2021-07-11T13:49:07.348455Z",
          "shell.execute_reply": "2021-07-11T13:49:07.348974Z",
          "shell.execute_reply.started": "2021-07-11T11:28:11.862084Z"
        },
        "papermill": {
          "duration": 0.033591,
          "end_time": "2021-07-11T13:49:07.349201",
          "exception": false,
          "start_time": "2021-07-11T13:49:07.315610",
          "status": "completed"
        },
        "tags": [],
        "id": "8f3637cc"
      },
      "outputs": [],
      "source": [
        "# Separating tags with a space\n",
        "def globalization(strok:str):\n",
        "    return strok.replace(';', ' ')\n",
        "\n",
        "# Removing duplicate tags\n",
        "def del_rep(strok:str):\n",
        "    spl_strok = strok.split()\n",
        "    return ' '.join(sorted(set(spl_strok), key=spl_strok.index))\n",
        "\n",
        "# Converting to lower case\n",
        "def to_low(strok:str):\n",
        "    return strok.lower()"
      ]
    },
    {
      "cell_type": "code",
      "execution_count": 15,
      "id": "94d5e7c9",
      "metadata": {
        "execution": {
          "iopub.execute_input": "2021-07-11T13:49:07.475846Z",
          "iopub.status.busy": "2021-07-11T13:49:07.466783Z",
          "iopub.status.idle": "2021-07-11T13:49:07.551957Z",
          "shell.execute_reply": "2021-07-11T13:49:07.551371Z",
          "shell.execute_reply.started": "2021-07-11T11:28:13.938528Z"
        },
        "papermill": {
          "duration": 0.129401,
          "end_time": "2021-07-11T13:49:07.552111",
          "exception": false,
          "start_time": "2021-07-11T13:49:07.422710",
          "status": "completed"
        },
        "tags": [],
        "id": "94d5e7c9"
      },
      "outputs": [],
      "source": [
        "# Separating tags with a space\n",
        "united_df['genres'] = united_df['genres'].apply(globalization)\n",
        "united_df['steamspy_tags'] = united_df['steamspy_tags'].apply(globalization)\n",
        "\n",
        "# Combining genres and tags\n",
        "united_df['genres&tags'] = united_df['genres'] + ' ' + united_df['steamspy_tags']\n",
        "\n",
        "# Removing duplicate tags\n",
        "united_df['genres&tags'] = united_df['genres&tags'].apply(del_rep)\n",
        "\n",
        "# Convert strings to lowercase and concatenate into one column\n",
        "cols = ['developer', 'genres&tags']\n",
        "united_df['alls'] = united_df['name'].copy().apply(to_low)\n",
        "for i in cols:\n",
        "  united_df['alls'] += ' ' + united_df[i].apply(to_low)"
      ]
    },
    {
      "cell_type": "code",
      "execution_count": 16,
      "id": "516536d7",
      "metadata": {
        "execution": {
          "iopub.execute_input": "2021-07-11T13:49:07.605673Z",
          "iopub.status.busy": "2021-07-11T13:49:07.604786Z",
          "iopub.status.idle": "2021-07-11T13:49:07.609031Z",
          "shell.execute_reply": "2021-07-11T13:49:07.608402Z",
          "shell.execute_reply.started": "2021-07-11T11:28:16.518747Z"
        },
        "papermill": {
          "duration": 0.034368,
          "end_time": "2021-07-11T13:49:07.609189",
          "exception": false,
          "start_time": "2021-07-11T13:49:07.574821",
          "status": "completed"
        },
        "tags": [],
        "colab": {
          "base_uri": "https://localhost:8080/"
        },
        "id": "516536d7",
        "outputId": "83a0a8d4-dcf1-4ad6-ef39-b9e113e1376f"
      },
      "outputs": [
        {
          "output_type": "execute_result",
          "data": {
            "text/plain": [
              "0            counter-strike valve action fps multiplayer\n",
              "1      team fortress classic valve action fps multipl...\n",
              "2      day of defeat valve action fps world war ii mu...\n",
              "3        deathmatch classic valve action fps multiplayer\n",
              "4      half-life: opposing force gearbox software act...\n",
              "                             ...                        \n",
              "799    take on helicopters bohemia interactive simula...\n",
              "800    arma: gold edition bohemia interactive action ...\n",
              "801    arma: cold war assault bohemia interactive act...\n",
              "802    dungeon defenders trendy entertainment action ...\n",
              "803    the bureau: xcom declassified 2k marin action ...\n",
              "Name: alls, Length: 804, dtype: object"
            ]
          },
          "metadata": {},
          "execution_count": 16
        }
      ],
      "source": [
        "# How it looks\n",
        "united_df['alls']"
      ]
    },
    {
      "cell_type": "code",
      "execution_count": 17,
      "id": "d619fdc4",
      "metadata": {
        "execution": {
          "iopub.execute_input": "2021-07-11T13:49:07.725186Z",
          "iopub.status.busy": "2021-07-11T13:49:07.719944Z",
          "iopub.status.idle": "2021-07-11T13:49:13.625407Z",
          "shell.execute_reply": "2021-07-11T13:49:13.624772Z",
          "shell.execute_reply.started": "2021-07-11T11:28:20.125417Z"
        },
        "papermill": {
          "duration": 5.947277,
          "end_time": "2021-07-11T13:49:13.625557",
          "exception": false,
          "start_time": "2021-07-11T13:49:07.678280",
          "status": "completed"
        },
        "tags": [],
        "id": "d619fdc4"
      },
      "outputs": [],
      "source": [
        "#By calculating the cosine similarity for each game, we can determine how similar they are.\n",
        "\n",
        "# Convert a collection of text documents to a matrix of token counts\n",
        "vectorizer = CountVectorizer(stop_words='english')\n",
        "count_matrix = vectorizer.fit_transform(united_df['alls'])\n",
        "\n",
        "# Compute cosine similarity\n",
        "cosine_sim = cosine_similarity(count_matrix, count_matrix)"
      ]
    },
    {
      "cell_type": "code",
      "execution_count": 18,
      "id": "53bb0458",
      "metadata": {
        "execution": {
          "iopub.execute_input": "2021-07-11T13:49:13.758122Z",
          "iopub.status.busy": "2021-07-11T13:49:13.752791Z",
          "iopub.status.idle": "2021-07-11T13:49:20.739728Z",
          "shell.execute_reply": "2021-07-11T13:49:20.739126Z",
          "shell.execute_reply.started": "2021-07-11T11:28:31.907803Z"
        },
        "papermill": {
          "duration": 7.044178,
          "end_time": "2021-07-11T13:49:20.739873",
          "exception": false,
          "start_time": "2021-07-11T13:49:13.695695",
          "status": "completed"
        },
        "tags": [],
        "id": "53bb0458"
      },
      "outputs": [],
      "source": [
        "# text-like strings, it is better to use the TfidfVectorizer\n",
        "# Convert a collection of raw documents to a matrix of TF-IDF features\n",
        "tfidf = TfidfVectorizer(stop_words='english')\n",
        "tfidf_matrix = tfidf.fit_transform(united_df['short_description'])\n",
        "\n",
        "# Stack sparse matrices horizontally\n",
        "st = hstack([count_matrix, tfidf_matrix])\n",
        "\n",
        "# Using hstack, you can combine matrices and calculate the cosine convergence so that when making recommendations\n",
        "# Compute cosine similarity\n",
        "cosine_sim2 = cosine_similarity(st, st)"
      ]
    },
    {
      "cell_type": "markdown",
      "id": "3a5adf5a",
      "metadata": {
        "id": "3a5adf5a"
      },
      "source": [
        "**Model Building**"
      ]
    },
    {
      "cell_type": "code",
      "execution_count": 19,
      "id": "323ab34c",
      "metadata": {
        "execution": {
          "iopub.execute_input": "2021-07-11T13:49:20.839249Z",
          "iopub.status.busy": "2021-07-11T13:49:20.838586Z",
          "iopub.status.idle": "2021-07-11T13:49:20.841709Z",
          "shell.execute_reply": "2021-07-11T13:49:20.841038Z",
          "shell.execute_reply.started": "2021-07-11T11:28:42.857391Z"
        },
        "papermill": {
          "duration": 0.032711,
          "end_time": "2021-07-11T13:49:20.841852",
          "exception": false,
          "start_time": "2021-07-11T13:49:20.809141",
          "status": "completed"
        },
        "tags": [],
        "id": "323ab34c"
      },
      "outputs": [],
      "source": [
        "# This function makes 10 recommendations based on the calculated cosine similarity. \n",
        "# In this case, there are two options: \n",
        "# 1.recommendations based on title, developer and tags, \n",
        "# 2.and the same recommendations, but using a short description\n",
        "\n",
        "# The main function that makes recommendations\n",
        "def getNeighbors(nam:str, cosine):\n",
        "#     Determine the index\n",
        "    ind = united_df[united_df['name'] == nam].index.to_list()[0]\n",
        "    \n",
        "#     Obtaining cosine convergence by index\n",
        "    cos_scor = list(enumerate(cosine[ind]))\n",
        "    \n",
        "#     Getting the most suitable games\n",
        "    cos_scor = sorted(cos_scor, key=lambda x: x[1], reverse=True)\n",
        "    cos_scor = cos_scor[1:8]\n",
        "    ten_ind = [i[0] for i in cos_scor]\n",
        "    return united_df['name'].iloc[ten_ind]"
      ]
    },
    {
      "cell_type": "markdown",
      "id": "5749f84f",
      "metadata": {
        "id": "5749f84f"
      },
      "source": [
        "**Predictions**\n",
        "\n",
        "Just drop a name to check a game - you have to use full names"
      ]
    },
    {
      "cell_type": "code",
      "execution_count": 20,
      "id": "2cb8f600",
      "metadata": {
        "colab": {
          "base_uri": "https://localhost:8080/"
        },
        "id": "2cb8f600",
        "outputId": "a9848f38-684a-4b73-d0f4-8c5a76810ebe"
      },
      "outputs": [
        {
          "output_type": "execute_result",
          "data": {
            "text/plain": [
              "0                     Counter-Strike\n",
              "1              Team Fortress Classic\n",
              "2                      Day of Defeat\n",
              "3                 Deathmatch Classic\n",
              "4          Half-Life: Opposing Force\n",
              "                   ...              \n",
              "799              Take On Helicopters\n",
              "800               ARMA: Gold Edition\n",
              "801           ARMA: Cold War Assault\n",
              "802                Dungeon Defenders\n",
              "803    The Bureau: XCOM Declassified\n",
              "Name: name, Length: 804, dtype: object"
            ]
          },
          "metadata": {},
          "execution_count": 20
        }
      ],
      "source": [
        "united_df['name']"
      ]
    },
    {
      "cell_type": "markdown",
      "id": "c3813812",
      "metadata": {
        "id": "c3813812"
      },
      "source": [
        "**Example 1**"
      ]
    },
    {
      "cell_type": "code",
      "execution_count": 21,
      "id": "a8a72a2c",
      "metadata": {
        "execution": {
          "iopub.execute_input": "2021-07-11T13:49:20.963171Z",
          "iopub.status.busy": "2021-07-11T13:49:20.944326Z",
          "iopub.status.idle": "2021-07-11T13:49:20.988367Z",
          "shell.execute_reply": "2021-07-11T13:49:20.987834Z",
          "shell.execute_reply.started": "2021-07-11T11:39:26.112042Z"
        },
        "papermill": {
          "duration": 0.076921,
          "end_time": "2021-07-11T13:49:20.988512",
          "exception": false,
          "start_time": "2021-07-11T13:49:20.911591",
          "status": "completed"
        },
        "tags": [],
        "colab": {
          "base_uri": "https://localhost:8080/"
        },
        "id": "a8a72a2c",
        "outputId": "a8351d81-fb63-4a9d-826f-8cdf0d0232e3"
      },
      "outputs": [
        {
          "output_type": "stream",
          "name": "stdout",
          "text": [
            "Recommendation for S.T.A.L.K.E.R.: Shadow of Chernobyl \n",
            "\n",
            "Recommendations using game name, developer, genre and tags \n",
            "\n",
            "655        S.T.A.L.K.E.R.: Call of Pripyat\n",
            "378              S.T.A.L.K.E.R.: Clear Sky\n",
            "410                              Fallout 3\n",
            "415    Fallout 3: Game of the Year Edition\n",
            "797                               Gothic 1\n",
            "416                     Fallout: New Vegas\n",
            "622                              Gothic® 3\n",
            "Name: name, dtype: object \n",
            "\n",
            "Recommendations using game name, developer, genre, tags and description \n",
            "\n",
            "None\n",
            "655        S.T.A.L.K.E.R.: Call of Pripyat\n",
            "378              S.T.A.L.K.E.R.: Clear Sky\n",
            "410                              Fallout 3\n",
            "415    Fallout 3: Game of the Year Edition\n",
            "416                     Fallout: New Vegas\n",
            "797                               Gothic 1\n",
            "622                              Gothic® 3\n",
            "Name: name, dtype: object\n"
          ]
        }
      ],
      "source": [
        "# Example 1\n",
        "naz = \"S.T.A.L.K.E.R.: Shadow of Chernobyl\"\n",
        "print('Recommendation for', naz, '\\n')\n",
        "print('Recommendations using game name, developer, genre and tags \\n')\n",
        "print(getNeighbors(naz, cosine_sim),'\\n')\n",
        "print(print('Recommendations using game name, developer, genre, tags and description \\n'))\n",
        "print(getNeighbors(naz, cosine_sim2))"
      ]
    },
    {
      "cell_type": "markdown",
      "id": "f57d386c",
      "metadata": {
        "id": "f57d386c"
      },
      "source": [
        "**Example 2**"
      ]
    },
    {
      "cell_type": "code",
      "execution_count": 22,
      "id": "7beb6805",
      "metadata": {
        "execution": {
          "iopub.execute_input": "2021-07-11T13:49:21.077773Z",
          "iopub.status.busy": "2021-07-11T13:49:21.077096Z",
          "iopub.status.idle": "2021-07-11T13:49:21.082331Z",
          "shell.execute_reply": "2021-07-11T13:49:21.083052Z",
          "shell.execute_reply.started": "2021-07-11T13:20:36.312093Z"
        },
        "papermill": {
          "duration": 0.071245,
          "end_time": "2021-07-11T13:49:21.083309",
          "exception": false,
          "start_time": "2021-07-11T13:49:21.012064",
          "status": "completed"
        },
        "tags": [],
        "colab": {
          "base_uri": "https://localhost:8080/"
        },
        "id": "7beb6805",
        "outputId": "09a4fd29-df61-495e-dfa0-eb2e32bb3439"
      },
      "outputs": [
        {
          "output_type": "stream",
          "name": "stdout",
          "text": [
            "Recommendation for Call of Duty® 4: Modern Warfare® \n",
            "\n",
            "Recommendations using game name, developer, genre and tags \n",
            "\n",
            "234    Call of Duty®: Modern Warfare® 2\n",
            "66                      Call of Duty® 2\n",
            "65                        Call of Duty®\n",
            "731                       Borderlands 2\n",
            "5                              Ricochet\n",
            "0                        Counter-Strike\n",
            "3                    Deathmatch Classic\n",
            "Name: name, dtype: object \n",
            "\n",
            "Recommendations using game name, developer, genre, tags and description \n",
            "\n",
            "None\n",
            "234    Call of Duty®: Modern Warfare® 2\n",
            "66                      Call of Duty® 2\n",
            "65                        Call of Duty®\n",
            "731                       Borderlands 2\n",
            "5                              Ricochet\n",
            "667            Call of Duty®: Black Ops\n",
            "0                        Counter-Strike\n",
            "Name: name, dtype: object\n"
          ]
        }
      ],
      "source": [
        "# Example 2\n",
        "naz = \"Call of Duty® 4: Modern Warfare®\"\n",
        "print('Recommendation for', naz, '\\n')\n",
        "print('Recommendations using game name, developer, genre and tags \\n')\n",
        "print(getNeighbors(naz, cosine_sim),'\\n')\n",
        "print(print('Recommendations using game name, developer, genre, tags and description \\n'))\n",
        "print(getNeighbors(naz, cosine_sim2))"
      ]
    },
    {
      "cell_type": "markdown",
      "id": "45513889",
      "metadata": {
        "id": "45513889"
      },
      "source": [
        "**Example 3**"
      ]
    },
    {
      "cell_type": "code",
      "execution_count": 23,
      "id": "84bd41a3",
      "metadata": {
        "execution": {
          "iopub.execute_input": "2021-07-11T13:49:21.173945Z",
          "iopub.status.busy": "2021-07-11T13:49:21.173255Z",
          "iopub.status.idle": "2021-07-11T13:49:21.178739Z",
          "shell.execute_reply": "2021-07-11T13:49:21.178185Z",
          "shell.execute_reply.started": "2021-07-11T13:21:00.190027Z"
        },
        "papermill": {
          "duration": 0.070819,
          "end_time": "2021-07-11T13:49:21.178887",
          "exception": false,
          "start_time": "2021-07-11T13:49:21.108068",
          "status": "completed"
        },
        "tags": [],
        "colab": {
          "base_uri": "https://localhost:8080/"
        },
        "id": "84bd41a3",
        "outputId": "f2416b92-f62a-4455-b834-6a2b45ddd6db"
      },
      "outputs": [
        {
          "output_type": "stream",
          "name": "stdout",
          "text": [
            "Recommendation for Borderlands 2 \n",
            "\n",
            "Recommendations using game name, developer, genre and tags \n",
            "\n",
            "199                   BioShock Infinite\n",
            "202         Sid Meier's Civilization® V\n",
            "66                      Call of Duty® 2\n",
            "186    Call of Duty® 4: Modern Warfare®\n",
            "234    Call of Duty®: Modern Warfare® 2\n",
            "435                   PAYDAY™ The Heist\n",
            "759                  Duke Nukem Forever\n",
            "Name: name, dtype: object \n",
            "\n",
            "Recommendations using game name, developer, genre, tags and description \n",
            "\n",
            "None\n",
            "199                   BioShock Infinite\n",
            "202         Sid Meier's Civilization® V\n",
            "186    Call of Duty® 4: Modern Warfare®\n",
            "234    Call of Duty®: Modern Warfare® 2\n",
            "66                      Call of Duty® 2\n",
            "435                   PAYDAY™ The Heist\n",
            "759                  Duke Nukem Forever\n",
            "Name: name, dtype: object\n"
          ]
        }
      ],
      "source": [
        "# Example 3\n",
        "naz = \"Borderlands 2\"\n",
        "print('Recommendation for', naz, '\\n')\n",
        "print('Recommendations using game name, developer, genre and tags \\n')\n",
        "print(getNeighbors(naz, cosine_sim),'\\n')\n",
        "print(print('Recommendations using game name, developer, genre, tags and description \\n'))\n",
        "print(getNeighbors(naz, cosine_sim2))"
      ]
    }
  ],
  "metadata": {
    "kernelspec": {
      "display_name": "Python 3 (ipykernel)",
      "language": "python",
      "name": "python3"
    },
    "language_info": {
      "codemirror_mode": {
        "name": "ipython",
        "version": 3
      },
      "file_extension": ".py",
      "mimetype": "text/x-python",
      "name": "python",
      "nbconvert_exporter": "python",
      "pygments_lexer": "ipython3",
      "version": "3.9.13"
    },
    "papermill": {
      "default_parameters": {},
      "duration": 28.763073,
      "end_time": "2021-07-11T13:49:22.114492",
      "environment_variables": {},
      "exception": null,
      "input_path": "__notebook__.ipynb",
      "output_path": "__notebook__.ipynb",
      "parameters": {},
      "start_time": "2021-07-11T13:48:53.351419",
      "version": "2.3.3"
    },
    "colab": {
      "provenance": [],
      "collapsed_sections": [],
      "include_colab_link": true
    }
  },
  "nbformat": 4,
  "nbformat_minor": 5
}